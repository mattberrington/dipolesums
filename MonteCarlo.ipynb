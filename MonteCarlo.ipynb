{
 "cells": [
  {
   "cell_type": "code",
   "execution_count": 230,
   "metadata": {},
   "outputs": [
    {
     "name": "stdout",
     "output_type": "stream",
     "text": [
      "0.0210573673248291\n"
     ]
    }
   ],
   "source": [
    "from DipoleGroundState import MonoclinicLattice\n",
    "import numpy as np\n",
    "import scipy.sparse\n",
    "import time\n",
    "import random\n",
    "\n",
    "pi = np.pi\n",
    "mB=9.274*10**(-24)\n",
    "k=1.380*10**(-23)\n",
    "NA=6.022*10**23\n",
    "mu0=4*pi*10**(-7)\n",
    "ErCl3 = MonoclinicLattice()\n",
    "ErCl3.axes(9.57, 6.47, 7.84, 93.65*np.pi/180)\n",
    "ErCl3.g_tensor(13.74, 0.75, 257*np.pi/180)\n",
    "ErCl3.ion1_position(0.25, 0.1521, 0.25)\n",
    "ErCl3.ion2_position(0.75, 0.8479, 0.75)\n",
    "\n",
    "A_positions, A_labels = ErCl3.spherical_bravais_lattice(100,1,'A',1,'A')\n",
    "B_positions, B_labels = ErCl3.spherical_bravais_lattice(100,1,'A',1,'B')\n",
    "vertices = np.concatenate((A_positions,B_positions),axis=0)\n",
    "ion_vector = ErCl3.position['1A']\n",
    "\n",
    "factor = (mu0)/(4*pi)/((10**(-10))**3)\n",
    "rx = vertices[:,0] - ion_vector[0]\n",
    "ry = vertices[:,1] - ion_vector[1]\n",
    "rz = vertices[:,2] - ion_vector[2]\n",
    "rtot = np.sqrt(np.sum(np.power(vertices - ion_vector,2),axis=1))\n",
    "mux = 0\n",
    "muy = 0\n",
    "muz = 0.5*mB*ErCl3.gz\n",
    "\n",
    "Bx_each_ion = factor*((3*(muz*rz)*rx)/(rtot**5))\n",
    "By_each_ion = factor*((3*(muz*rz)*ry)/(rtot**5))\n",
    "Bz_each_ion = factor*(-(muz/rtot**3) + (3*(muz*rz)*rz)/(rtot**5))\n",
    "\n",
    "def field(Bxs,Bys,Bzs,vertices,probability):    \n",
    "    bias = -probability\n",
    "    randoms_orientations = np.sign(np.random.rand(len(vertices))+bias)\n",
    "    Bx = np.sum(Bxs*randoms_orientations)\n",
    "    By = np.sum(Bys*randoms_orientations)\n",
    "    Bz = np.sum(Bzs*randoms_orientations)\n",
    "    return (Bx, By, Bz)\n",
    "\n",
    "def field_sparse(Bxs,Bys,Bzs,vertices,probability):    \n",
    "    flips = scipy.sparse.rand(1,len(vertices),density=probability)\n",
    "    flips.data[:]=-2\n",
    "    Bx = factor*(flips.dot(Bxs)+np.sum(Bxs))\n",
    "    By = factor*(flips.dot(Bys)+np.sum(Bys))\n",
    "    Bz = factor*(flips.dot(Bzs)+np.sum(Bzs))\n",
    "    return (Bx, By, Bz)\n",
    "\n",
    "def field_change(Bxs,Bys,Bzs,vertices,probability):\n",
    "    np.random.shuffle(a)\n",
    "    positions_to_flip = a[:int(len(Bxs)*probability)]\n",
    "    return -2*np.sum([Bxs[positions_to_flip], Bys[positions_to_flip],Bzs[positions_to_flip]],axis=1)\n",
    "    \n",
    "sample_length = 1000\n",
    "\n",
    "# sample = np.empty((sample_length,3))\n",
    "# t=time.time()\n",
    "# for i in range(sample_length):\n",
    "#     sample[i] = field(Bx_each_ion,By_each_ion,Bz_each_ion,vertices,0.01)\n",
    "# print(time.time()-t)\n",
    "\n",
    "sample2 = np.empty((sample_length,3))\n",
    "t=time.time()\n",
    "a = np.arange(len(Bxs))\n",
    "for i in range(sample_length):\n",
    "    sample2[i] = field_change(Bx_each_ion,By_each_ion,Bz_each_ion,vertices,0.5)\n",
    "sample2 = sample2 + np.sum([Bx_each_ion,By_each_ion,Bz_each_ion],axis=1)\n",
    "print(time.time()-t)\n",
    "\n",
    "# sample = np.empty((sample_length,3))\n",
    "# t=time.time()\n",
    "# for i in range(sample_length):\n",
    "#     sample[i] = field_sparse(Bx_each_ion,By_each_ion,Bz_each_ion,vertices,0.001)\n",
    "# print(time.time()-t)"
   ]
  },
  {
   "cell_type": "code",
   "execution_count": 227,
   "metadata": {},
   "outputs": [
    {
     "name": "stdout",
     "output_type": "stream",
     "text": [
      "14.2 µs ± 24.8 ns per loop (mean ± std. dev. of 7 runs, 100000 loops each)\n",
      "4.04 µs ± 25.2 ns per loop (mean ± std. dev. of 7 runs, 100000 loops each)\n",
      "360 ns ± 1.82 ns per loop (mean ± std. dev. of 7 runs, 1000000 loops each)\n"
     ]
    },
    {
     "ename": "SyntaxError",
     "evalue": "'return' outside function (<magic-timeit-stmt>, line 1)",
     "output_type": "error",
     "traceback": [
      "Traceback \u001b[0;36m(most recent call last)\u001b[0m:\n",
      "  File \u001b[1;32m\"/home/matt/.local/lib/python3.6/site-packages/IPython/core/interactiveshell.py\"\u001b[0m, line \u001b[1;32m3267\u001b[0m, in \u001b[1;35mrun_code\u001b[0m\n    exec(code_obj, self.user_global_ns, self.user_ns)\n",
      "  File \u001b[1;32m\"<ipython-input-227-62a178c50a2c>\"\u001b[0m, line \u001b[1;32m6\u001b[0m, in \u001b[1;35m<module>\u001b[0m\n    field_change(Bx_each_ion,By_each_ion,Bz_each_ion,vertices,0.5)\n",
      "  File \u001b[1;32m\"<ipython-input-227-62a178c50a2c>\"\u001b[0m, line \u001b[1;32m5\u001b[0m, in \u001b[1;35mfield_change\u001b[0m\n    get_ipython().run_line_magic('timeit', 'return -2*np.sum([Bxs[positions_to_flip], Bys[positions_to_flip],Bzs[positions_to_flip]],axis=1)')\n",
      "  File \u001b[1;32m\"/home/matt/.local/lib/python3.6/site-packages/IPython/core/interactiveshell.py\"\u001b[0m, line \u001b[1;32m2287\u001b[0m, in \u001b[1;35mrun_line_magic\u001b[0m\n    result = fn(*args,**kwargs)\n",
      "  File \u001b[1;32m\"<decorator-gen-61>\"\u001b[0m, line \u001b[1;32m2\u001b[0m, in \u001b[1;35mtimeit\u001b[0m\n",
      "  File \u001b[1;32m\"/home/matt/.local/lib/python3.6/site-packages/IPython/core/magic.py\"\u001b[0m, line \u001b[1;32m187\u001b[0m, in \u001b[1;35m<lambda>\u001b[0m\n    call = lambda f, *a, **k: f(*a, **k)\n",
      "  File \u001b[1;32m\"/home/matt/.local/lib/python3.6/site-packages/IPython/core/magics/execution.py\"\u001b[0m, line \u001b[1;32m1087\u001b[0m, in \u001b[1;35mtimeit\u001b[0m\n    self.shell.compile(ast_stmt, \"<magic-timeit-stmt>\", \"exec\")\n",
      "\u001b[0;36m  File \u001b[0;32m\"/usr/lib/python3.6/codeop.py\"\u001b[0;36m, line \u001b[0;32m133\u001b[0;36m, in \u001b[0;35m__call__\u001b[0;36m\u001b[0m\n\u001b[0;31m    codeob = compile(source, filename, symbol, self.flags, 1)\u001b[0m\n",
      "\u001b[0;36m  File \u001b[0;32m\"<magic-timeit-stmt>\"\u001b[0;36m, line \u001b[0;32m1\u001b[0m\n\u001b[0;31mSyntaxError\u001b[0m\u001b[0;31m:\u001b[0m 'return' outside function\n"
     ]
    }
   ],
   "source": [
    "def field_change(Bxs,Bys,Bzs,vertices,probability):\n",
    "    %timeit a = np.arange(len(Bxs))\n",
    "    %timeit np.random.shuffle(a)\n",
    "    %timeit positions_to_flip = a[:int(len(Bxs)*probability)]\n",
    "    %timeit return -2*np.sum([Bxs[positions_to_flip], Bys[positions_to_flip],Bzs[positions_to_flip]],axis=1)\n",
    "field_change(Bx_each_ion,By_each_ion,Bz_each_ion,vertices,0.5)"
   ]
  },
  {
   "cell_type": "code",
   "execution_count": 221,
   "metadata": {},
   "outputs": [
    {
     "data": {
      "image/png": "[encoded data removed]",
      "text/plain": [
       "<Figure size 432x288 with 1 Axes>"
      ]
     },
     "metadata": {
      "needs_background": "light"
     },
     "output_type": "display_data"
    },
    {
     "data": {
      "image/png": "[encoded data removed]",
      "text/plain": [
       "<Figure size 432x288 with 1 Axes>"
      ]
     },
     "metadata": {
      "needs_background": "light"
     },
     "output_type": "display_data"
    },
    {
     "data": {
      "image/png": "[encoded data removed]",
      "text/plain": [
       "<Figure size 432x288 with 1 Axes>"
      ]
     },
     "metadata": {
      "needs_background": "light"
     },
     "output_type": "display_data"
    }
   ],
   "source": [
    "import matplotlib.pyplot as plt\n",
    "\n",
    "plt.hist(sample[:,0]*1,100,range=(-0.3,0.3))\n",
    "plt.hist(sample2[:,0]*1,100,range=(-0.3,0.3))\n",
    "plt.show()\n",
    "plt.hist(sample[:,1]*1,30)\n",
    "plt.hist(sample2[:,1]*1,30)\n",
    "plt.show()\n",
    "plt.hist(sample[:,2]*1,30)\n",
    "plt.hist(sample2[:,2]*1,30)\n",
    "plt.show()"
   ]
  },
  {
   "cell_type": "code",
   "execution_count": 159,
   "metadata": {},
   "outputs": [
    {
     "data": {
      "text/plain": [
       "138204"
      ]
     },
     "execution_count": 159,
     "metadata": {},
     "output_type": "execute_result"
    }
   ],
   "source": [
    "len(vertices)"
   ]
  },
  {
   "cell_type": "code",
   "execution_count": 162,
   "metadata": {},
   "outputs": [
    {
     "name": "stdout",
     "output_type": "stream",
     "text": [
      "2.02 ms ± 157 µs per loop (mean ± std. dev. of 7 runs, 1000 loops each)\n",
      "899 µs ± 26.8 µs per loop (mean ± std. dev. of 7 runs, 1000 loops each)\n"
     ]
    }
   ],
   "source": [
    "%timeit scipy.sparse.rand(1,100000,density=0.01)\n",
    "%timeit np.random.rand(100000)"
   ]
  }
 ],
 "metadata": {
  "kernelspec": {
   "display_name": "Python 3",
   "language": "python",
   "name": "python3"
  },
  "language_info": {
   "codemirror_mode": {
    "name": "ipython",
    "version": 3
   },
   "file_extension": ".py",
   "mimetype": "text/x-python",
   "name": "python",
   "nbconvert_exporter": "python",
   "pygments_lexer": "ipython3",
   "version": "3.6.7"
  }
 },
 "nbformat": 4,
 "nbformat_minor": 2
}
