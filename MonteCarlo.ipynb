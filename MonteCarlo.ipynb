{
 "cells": [
  {
   "cell_type": "code",
   "execution_count": 103,
   "metadata": {},
   "outputs": [],
   "source": [
    "from DipoleGroundState import MonoclinicLattice\n",
    "import numpy as np\n",
    "pi = np.pi\n",
    "mB=9.274*10**(-24)\n",
    "k=1.380*10**(-23)\n",
    "NA=6.022*10**23\n",
    "mu0=4*pi*10**(-7)\n",
    "ErCl3 = MonoclinicLattice()\n",
    "ErCl3.axes(9.57, 6.47, 7.84, 93.65*np.pi/180)\n",
    "ErCl3.g_tensor(13.74, 0.75, 257*np.pi/180)\n",
    "ErCl3.ion1_position(0.25, 0.1521, 0.25)\n",
    "ErCl3.ion2_position(0.75, 0.8479, 0.75)\n",
    "\n",
    "A_positions, A_labels = ErCl3.spherical_bravais_lattice(100,1,'A',1,'A')\n",
    "B_positions, B_labels = ErCl3.spherical_bravais_lattice(100,1,'A',1,'B')\n",
    "vertices = np.concatenate((A_positions,B_positions),axis=0)\n",
    "ion_vector = ErCl3.position['1A']\n",
    "\n",
    "factor = (mu0)/(4*pi)/((10**(-10))**3)\n",
    "rx = vertices[:,0] - ion_vector[0]\n",
    "ry = vertices[:,1] - ion_vector[1]\n",
    "rz = vertices[:,2] - ion_vector[2]\n",
    "rtot = np.sqrt(np.sum(np.power(vertices - ion_vector,2),axis=1))\n",
    "mux = 0\n",
    "muy = 0\n",
    "muz = 0.5*mB*ErCl3.gz\n",
    "\n",
    "Bx_each_ion = (3*(muz*rz)*rx)/(rtot**5)\n",
    "By_each_ion = (3*(muz*rz)*ry)/(rtot**5)\n",
    "Bz_each_ion = -(muz/rtot**3) + (3*(muz*rz)*rz)/(rtot**5)\n",
    "\n",
    "def field(Bxs,Bys,Bzs,vertices):    \n",
    "    randoms_orientations = np.sign(np.random.rand(len(vertices))-0.5)\n",
    "    Bx = factor*np.sum(Bxs*randoms_orientations)\n",
    "    By = factor*np.sum(Bys*randoms_orientations)\n",
    "    Bz = factor*np.sum(Bzs*randoms_orientations)\n",
    "    \n",
    "    return (Bx, By, Bz)\n",
    "\n",
    "sample = np.empty((100000,3))\n",
    "for i in range(100000):\n",
    "    sample[i] = field(Bx_each_ion,By_each_ion,Bz_each_ion,vertices)"
   ]
  },
  {
   "cell_type": "code",
   "execution_count": 104,
   "metadata": {},
   "outputs": [
    {
     "data": {
      "text/plain": [
       "(array([1.000e+01, 2.500e+01, 8.400e+01, 2.290e+02, 4.500e+02, 8.520e+02,\n",
       "        1.476e+03, 2.365e+03, 3.345e+03, 4.783e+03, 6.073e+03, 7.400e+03,\n",
       "        8.622e+03, 9.341e+03, 9.559e+03, 9.156e+03, 8.709e+03, 7.473e+03,\n",
       "        6.179e+03, 4.853e+03, 3.508e+03, 2.318e+03, 1.514e+03, 8.300e+02,\n",
       "        4.680e+02, 2.550e+02, 7.900e+01, 3.300e+01, 7.000e+00, 4.000e+00]),\n",
       " array([-0.22680643, -0.21118938, -0.19557234, -0.1799553 , -0.16433825,\n",
       "        -0.14872121, -0.13310416, -0.11748712, -0.10187007, -0.08625303,\n",
       "        -0.07063599, -0.05501894, -0.0394019 , -0.02378485, -0.00816781,\n",
       "         0.00744924,  0.02306628,  0.03868333,  0.05430037,  0.06991741,\n",
       "         0.08553446,  0.1011515 ,  0.11676855,  0.13238559,  0.14800264,\n",
       "         0.16361968,  0.17923672,  0.19485377,  0.21047081,  0.22608786,\n",
       "         0.2417049 ]),\n",
       " <a list of 30 Patch objects>)"
      ]
     },
     "execution_count": 104,
     "metadata": {},
     "output_type": "execute_result"
    },
    {
     "data": {
      "image/png": "[encoded data removed]",
      "text/plain": [
       "<matplotlib.figure.Figure at 0x7fc8dd955240>"
      ]
     },
     "metadata": {},
     "output_type": "display_data"
    }
   ],
   "source": [
    "import matplotlib.pyplot as plt\n",
    "plt.hist(sample[:,2]*1,30)"
   ]
  },
  {
   "cell_type": "code",
   "execution_count": null,
   "metadata": {},
   "outputs": [],
   "source": []
  }
 ],
 "metadata": {
  "kernelspec": {
   "display_name": "Python 3",
   "language": "python",
   "name": "python3"
  },
  "language_info": {
   "codemirror_mode": {
    "name": "ipython",
    "version": 3
   },
   "file_extension": ".py",
   "mimetype": "text/x-python",
   "name": "python",
   "nbconvert_exporter": "python",
   "pygments_lexer": "ipython3",
   "version": "3.6.4"
  }
 },
 "nbformat": 4,
 "nbformat_minor": 2
}
