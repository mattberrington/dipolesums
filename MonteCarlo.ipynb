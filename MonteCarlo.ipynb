{
 "cells": [
  {
   "cell_type": "code",
   "execution_count": 1,
   "metadata": {},
   "outputs": [],
   "source": [
    "from DipoleGroundState import MonoclinicLattice\n",
    "import numpy as np\n",
    "import scipy.sparse\n",
    "import time\n",
    "import random\n",
    "import spinh \n",
    "import matplotlib.pyplot as plt\n",
    "\n",
    "pi = np.pi\n",
    "mB=9.274*10**(-24)\n",
    "k=1.380*10**(-23)\n",
    "NA=6.022*10**23\n",
    "mu0=4*pi*10**(-7)\n",
    "ErCl3 = MonoclinicLattice()\n",
    "ErCl3.axes(9.57, 6.47, 7.84, 93.65*np.pi/180)\n",
    "ErCl3.g_tensor(13.74, 0.75, 257*np.pi/180)\n",
    "ErCl3.ion1_position(0.25, 0.1521, 0.25)\n",
    "ErCl3.ion2_position(0.75, 0.8479, 0.75)\n",
    "\n",
    "A_positions, A_labels = ErCl3.spherical_bravais_lattice(150,1,'A',1,'A')\n",
    "B_positions, B_labels = ErCl3.spherical_bravais_lattice(150,1,'A',1,'B')\n",
    "vertices = np.concatenate((A_positions,B_positions),axis=0)\n",
    "ion_vector = ErCl3.position['1A']\n",
    "\n",
    "factor = (mu0)/(4*pi)/((10**(-10))**3)\n",
    "rx = vertices[:,0] - ion_vector[0]\n",
    "ry = vertices[:,1] - ion_vector[1]\n",
    "rz = vertices[:,2] - ion_vector[2]\n",
    "rtot = np.sqrt(np.sum(np.power(vertices - ion_vector,2),axis=1))\n",
    "mux = 0\n",
    "muy = 0\n",
    "muz = 0.5*mB*ErCl3.gz\n",
    "\n",
    "Bx_each_ion = factor*((3*(muz*rz)*rx)/(rtot**5))\n",
    "By_each_ion = factor*((3*(muz*rz)*ry)/(rtot**5))\n",
    "Bz_each_ion = factor*(-(muz/rtot**3) + (3*(muz*rz)*rz)/(rtot**5))\n",
    "\n",
    "def probabilty_flipped(T,Bx,By,Bz):\n",
    "    boltzmann = 20.8368 #GHz/Kelvin\n",
    "    p1 = np.exp(-spinh.groundsplitting(M_gnd,Bx,By,Bz)/(boltzmann*T))\n",
    "    p2 = np.exp(-0)\n",
    "    propability_flipping = p1/(p1+p2)\n",
    "    return propability_flipping\n",
    "\n",
    "def field(Bxs,Bys,Bzs,vertices,T,Bx_applied,By_applied,Bz_applied):    \n",
    "    bias = -probabilty_flipped(T,Bx_applied,By_applied,Bz_applied)\n",
    "    randoms_orientations = np.sign(np.random.rand(len(vertices))+bias)\n",
    "    Bx = np.sum(Bxs*randoms_orientations) #+ Bx_applied\n",
    "    By = np.sum(Bys*randoms_orientations) #+ By_applied\n",
    "    Bz = np.sum(Bzs*randoms_orientations) #+ Bz_applied\n",
    "    return (Bx, By, Bz)\n",
    "\n",
    "import numpy as np\n",
    "import spinh\n",
    "\n",
    "#Applied a universal rotation to my zeeman tensors calculated from the spiral\n",
    "#As a result the direction of maximam splitting is now along the z axis\n",
    "#Now it's in the same coordinate frame as everything above\n",
    "#Note that this hamiltonian doesn't have \n",
    "# an axial tensor, so it's not completely consistent\n",
    "\n",
    "alpha_gnd =   0.0*np.pi/180\n",
    "beta_gnd  = -90.0*np.pi/180\n",
    "gamma_gnd =-167.571*np.pi/180\n",
    "gx_gnd    =  13.1\n",
    "gy_gnd    =   0.0\n",
    "gz_gnd    =   0.55\n",
    "alpha_exc =   7.924*np.pi/180\n",
    "beta_exc  = -92.722*np.pi/180\n",
    "gamma_exc =-168.467*np.pi/180\n",
    "gx_exc    =  13.0\n",
    "gy_exc    =   0.8\n",
    "gz_exc    =   0.9\n",
    "\n",
    "M_gnd = spinh.M(alpha_gnd, beta_gnd, gamma_gnd, gx_gnd, gy_gnd, gz_gnd)\n",
    "M_exc = spinh.M(alpha_exc, beta_exc, gamma_exc, gx_exc, gy_exc, gz_exc)"
   ]
  },
  {
   "cell_type": "markdown",
   "metadata": {},
   "source": [
    "Algorithm:\n",
    "Specify some T\n",
    "Set B0 for first iteration\n",
    "Calculate M from given B0 and T\n",
    "\n",
    "Caculate field at 500 lattice points using B, T and M\n",
    "Calculate the average B field\n",
    "Repeat using most recent B field and it's corresponding M"
   ]
  },
  {
   "cell_type": "code",
   "execution_count": null,
   "metadata": {},
   "outputs": [],
   "source": [
    "rho = 2/(np.dot(np.cross(ErCl3.a,ErCl3.b),ErCl3.c))/((10**(-10))**3)\n",
    "\n",
    "for T in np.linspace(0.05,1,21):\n",
    "    t = time.time()\n",
    "    B = [0,0,0.05]\n",
    "    M = rho*np.array([mux,muy,muz])*(1-2*probabilty_flipped(T,*B))\n",
    "    B_list = []\n",
    "    M_list = []\n",
    "    for i in range(100):\n",
    "        Bcavity = mu0*M/3\n",
    "        field_list = []\n",
    "        for j in range(20000):\n",
    "            field_list.append(field(Bx_each_ion,By_each_ion,Bz_each_ion,vertices,T,*B) + Bcavity)\n",
    "        B = np.mean(field_list,axis=0)\n",
    "        M = rho*np.array([mux,muy,muz])*(1-2*probabilty_flipped(T,*B))\n",
    "        B_list.append(B[2])\n",
    "        M_list.append(M[2])\n",
    "    print(T,np.mean(B_list[-20:]),np.std(B_list[-20:]))\n",
    "    plt.plot(B_list[:],label=str(T)+' K')\n",
    "plt.legend()"
   ]
  },
  {
   "cell_type": "code",
   "execution_count": 3,
   "metadata": {},
   "outputs": [
    {
     "name": "stdout",
     "output_type": "stream",
     "text": [
      "done distribution1\n",
      "done distribution2\n",
      "139.2230577468872\n"
     ]
    }
   ],
   "source": [
    "sample_length = 50000\n",
    "t=time.time()\n",
    "\n",
    "distribution1 = np.empty((sample_length,3))\n",
    "for i in range(sample_length):\n",
    "    distribution1[i] = field(Bx_each_ion,By_each_ion,Bz_each_ion,vertices,4.2,0,0,0)\n",
    "print('done distribution1')\n",
    "\n",
    "distribution2 = np.empty((sample_length,3))\n",
    "for i in range(sample_length):\n",
    "    distribution2[i] = field(Bx_each_ion,By_each_ion,Bz_each_ion,vertices,0.26,0,0,0.107)\n",
    "print('done distribution2') \n",
    "\n",
    "distribution3 = np.empty((sample_length,3))\n",
    "for i in range(sample_length):\n",
    "    distribution3[i] = field(Bx_each_ion,By_each_ion,Bz_each_ion,vertices,2,0,0,0.2)\n",
    "print('done distribution3') \n",
    "print(time.time()-t)"
   ]
  },
  {
   "cell_type": "markdown",
   "metadata": {},
   "source": [
    "I've did some field calculations at different probabilities, and discovered that when the probability of a flip is less than 0.05, the field distribution is non-gaussian. There are other distinct modes either side of the main peak."
   ]
  },
  {
   "cell_type": "code",
   "execution_count": 14,
   "metadata": {},
   "outputs": [],
   "source": [
    "import matplotlib.pyplot as plt\n",
    "%matplotlib qt\n",
    "%matplotlib qt\n",
    "f, (ax1, ax2, ax3) = plt.subplots(1,3)\n",
    "ax1.hist(distribution1[:,0]*1,50,range=(-0.2,0.2))\n",
    "ax1.hist(distribution2[:,0]*1,50,range=(-0.2,0.2))\n",
    "ax1.hist(distribution3[:,0]*1,50,range=(-0.2,0.2))\n",
    "ax1.set_xlabel(\"$B_x$ at site (T)\")\n",
    "ax2.hist(distribution1[:,1]*1,50,range=(-0.2,0.2))\n",
    "ax2.hist(distribution2[:,1]*1,50,range=(-0.2,0.2))\n",
    "ax2.hist(distribution3[:,1]*1,50,range=(-0.2,0.2))\n",
    "ax2.set_xlabel(\"$B_y$ at site (T)\")\n",
    "ax3.hist(distribution1[:,2]*1,50,range=(-0.2,0.2),label='4K no field')\n",
    "ax3.hist(distribution2[:,2]*1,50,range=(-0.2,0.2),label='260mK 107mT')\n",
    "ax3.hist(distribution3[:,2]*1,50,range=(-0.2,0.2),label='2K 200mT')\n",
    "ax3.set_xlabel(\"$B_z$ at site (T)\")\n",
    "\n",
    "plt.legend()\n",
    "\n",
    "plt.show()"
   ]
  },
  {
   "cell_type": "code",
   "execution_count": null,
   "metadata": {},
   "outputs": [],
   "source": [
    "reload(spinh)\n",
    "spinh.transitions_and_intensity(M_gnd,M_exc,*distribution2[1])\n",
    "\n",
    "trans1 = np.zeros((len(distribution1),4))\n",
    "intensities1 = np.zeros((len(distribution1),4))\n",
    "for i in range(len(distribution1)):\n",
    "    trans1[i], intensities1[i] = spinh.transitions_and_intensity(M_gnd,M_exc,*distribution1[i])\n",
    "    \n",
    "trans2 = np.zeros((len(distribution2),4))\n",
    "intensities2 = np.zeros((len(distribution2),4))\n",
    "for i in range(len(distribution2)):\n",
    "    trans2[i], intensities2[i] = spinh.transitions_and_intensity(M_gnd,M_exc,*distribution2[i])\n",
    "\n",
    "trans3 = np.zeros((len(distribution3),4))\n",
    "intensities3 = np.zeros((len(distribution3),4))\n",
    "for i in range(len(distribution3)):\n",
    "    trans3[i], intensities3[i] = spinh.transitions_and_intensity(M_gnd,M_exc,*distribution3[i])\n"
   ]
  },
  {
   "cell_type": "code",
   "execution_count": null,
   "metadata": {},
   "outputs": [],
   "source": [
    "%matplotlib qt\n",
    "%matplotlib qt\n",
    "%matplotlib qt\n",
    "%matplotlib qt\n",
    "\n",
    "plt.figure()\n",
    "plt.hist(trans1[:,0],weights=intensities1[:,0],bins=50,range=(-5,5))\n",
    "plt.hist(trans1[:,3],weights=intensities1[:,3],bins=50,range=(-5,5))\n",
    "plt.hist(trans1[:,1],weights=intensities1[:,1],bins=50,range=(-5,5))\n",
    "plt.hist(trans1[:,2],weights=intensities1[:,2],bins=50,range=(-5,5))\n",
    "# plt.show()\n",
    "\n",
    "prob_upper = probabilty_flipped(0.26,*distribution2[0])\n",
    "prob_lower = 1-probabilty_flipped(0.26,*distribution2[0])\n",
    "\n",
    "plt.figure()\n",
    "plt.hist(trans2[:,0],weights=intensities2[:,0]*prob_lower,bins=300,range=(-30,30))\n",
    "plt.hist(trans2[:,3],weights=intensities2[:,3]*prob_upper,bins=300,range=(-30,30))\n",
    "plt.hist(trans2[:,1],weights=intensities2[:,1]*prob_lower,bins=300,range=(-30,30))\n",
    "plt.hist(trans2[:,2],weights=intensities2[:,2]*prob_upper,bins=300,range=(-30,30))\n",
    "# plt.ylim(0,100)\n",
    "plt.show()\n",
    "\n",
    "prob_upper = probabilty_flipped(2,*distribution3[0])\n",
    "prob_lower = 1-probabilty_flipped(2,*distribution3[0])\n",
    "\n",
    "plt.figure()\n",
    "plt.hist(trans3[:,0],weights=intensities3[:,0]*prob_lower,bins=300,range=(-60,20))\n",
    "plt.hist(trans3[:,3],weights=intensities3[:,3]*prob_upper,bins=300,range=(-60,20))\n",
    "plt.hist(trans3[:,1],weights=intensities3[:,1]*prob_lower,bins=300,range=(-60,20))\n",
    "plt.hist(trans3[:,2],weights=intensities3[:,2]*prob_upper,bins=300,range=(-60,20))\n",
    "# plt.ylim(0,100)\n",
    "plt.show()"
   ]
  },
  {
   "cell_type": "code",
   "execution_count": null,
   "metadata": {},
   "outputs": [],
   "source": [
    "plt.plot(bincenters0,y0)\n",
    "plt.xlim(-1,1)"
   ]
  },
  {
   "cell_type": "code",
   "execution_count": null,
   "metadata": {},
   "outputs": [],
   "source": [
    "%matplotlib qt\n",
    "%matplotlib qt\n",
    "alpha=0.01\n",
    "y0,binEdges0 = np.histogram(trans2[:,0],weights=intensities2[:,0]*prob_lower,bins=300,range=(-30,30))\n",
    "y1,binEdges1 = np.histogram(trans2[:,1],weights=intensities2[:,1]*prob_lower,bins=300,range=(-30,30))\n",
    "y2,binEdges2 = np.histogram(trans2[:,2],weights=intensities2[:,2]*prob_upper,bins=300,range=(-30,30))\n",
    "y3,binEdges3 = np.histogram(trans2[:,3],weights=intensities2[:,3]*prob_upper,bins=300,range=(-30,30))\n",
    "bincenters0 = 0.5*(binEdges0[1:]+binEdges0[:-1])\n",
    "bincenters1 = 0.5*(binEdges1[1:]+binEdges1[:-1])\n",
    "bincenters2 = 0.5*(binEdges2[1:]+binEdges2[:-1])\n",
    "bincenters3 = 0.5*(binEdges3[1:]+binEdges3[:-1])\n",
    "# plt.plot(bincenters0,np.exp(-y0*alpha),'-')\n",
    "# plt.plot(bincenters1,np.exp(-y1*alpha),'-')\n",
    "# plt.plot(bincenters2,np.exp(-y2*alpha),'-')\n",
    "# plt.plot(bincenters3,np.exp(-y3*alpha),'-')\n",
    "plt.plot(bincenters3,np.exp(-y0*alpha)*np.exp(-y1*alpha)*np.exp(-y2*alpha)*np.exp(-y3*alpha),'-')\n",
    "plt.show()"
   ]
  },
  {
   "cell_type": "code",
   "execution_count": 34,
   "metadata": {},
   "outputs": [
    {
     "data": {
      "image/png": "[encoded data removed]",
      "text/plain": [
       "<matplotlib.figure.Figure at 0x7f8468043e10>"
      ]
     },
     "metadata": {},
     "output_type": "display_data"
    }
   ],
   "source": [
    "y0,binEdges0 = np.histogram(trans1[:,0],weights=intensities1[:,0],bins=1200,range=(-60,20))\n",
    "y1,binEdges1 = np.histogram(trans1[:,3],weights=intensities1[:,3],bins=1200,range=(-60,20))\n",
    "y2,binEdges2 = np.histogram(trans1[:,1],weights=intensities1[:,1],bins=1200,range=(-60,20))\n",
    "y3,binEdges3 = np.histogram(trans1[:,2],weights=intensities1[:,2],bins=1200,range=(-60,20))\n",
    "\n",
    "bincenters0 = 0.5*(binEdges0[1:]+binEdges0[:-1])\n",
    "bincenters1 = 0.5*(binEdges1[1:]+binEdges1[:-1])\n",
    "bincenters2 = 0.5*(binEdges2[1:]+binEdges2[:-1])\n",
    "bincenters3 = 0.5*(binEdges3[1:]+binEdges3[:-1])\n",
    "\n",
    "alpha=1\n",
    "absorption0 = np.exp(-y0*alpha)\n",
    "absorption1 = np.exp(-y1*alpha)\n",
    "absorption2 = np.exp(-y2*alpha)\n",
    "absorption3 = np.exp(-y3*alpha)\n",
    "\n",
    "plt.plot(bincenters3,(absorption0*absorption1*absorption2*absorption3))\n",
    "plt.ylim(0,1.1)\n",
    "plt.grid()\n",
    "# plt.xlim(-5,5)\n",
    "# plt.show()"
   ]
  },
  {
   "cell_type": "code",
   "execution_count": 33,
   "metadata": {},
   "outputs": [
    {
     "data": {
      "image/png": "[encoded data removed]",
      "text/plain": [
       "<matplotlib.figure.Figure at 0x7f8462cf4ba8>"
      ]
     },
     "metadata": {},
     "output_type": "display_data"
    }
   ],
   "source": [
    "%matplotlib inline\n",
    "\n",
    "plt.figure()\n",
    "y0,binEdges0 = np.histogram(trans3[:,0],weights=intensities3[:,0],bins=1200,range=(-60,20))\n",
    "y1,binEdges1 = np.histogram(trans3[:,3],weights=intensities3[:,3],bins=1200,range=(-60,20))\n",
    "y2,binEdges2 = np.histogram(trans3[:,1],weights=intensities3[:,1],bins=1200,range=(-60,20))\n",
    "y3,binEdges3 = np.histogram(trans3[:,2],weights=intensities3[:,2],bins=1200,range=(-60,20))\n",
    "\n",
    "bincenters0 = 0.5*(binEdges0[1:]+binEdges0[:-1])\n",
    "bincenters1 = 0.5*(binEdges1[1:]+binEdges1[:-1])\n",
    "bincenters2 = 0.5*(binEdges2[1:]+binEdges2[:-1])\n",
    "bincenters3 = 0.5*(binEdges3[1:]+binEdges3[:-1])\n",
    "\n",
    "alpha=1\n",
    "absorption0 = np.exp(-y0*alpha)\n",
    "absorption1 = np.exp(-y1*alpha)\n",
    "absorption2 = np.exp(-y2*alpha)\n",
    "absorption3 = np.exp(-y3*alpha)\n",
    "\n",
    "# plt.plot(bincenters3,(absorption2))\n",
    "\n",
    "plt.plot(bincenters3,(absorption0*absorption1*absorption2*absorption3))\n",
    "# plt.ylim(0,1.1)\n",
    "plt.grid()\n",
    "# plt.xlim(-5,5)\n",
    "plt.show()"
   ]
  },
  {
   "cell_type": "code",
   "execution_count": null,
   "metadata": {},
   "outputs": [],
   "source": []
  }
 ],
 "metadata": {
  "kernelspec": {
   "display_name": "Python 3",
   "language": "python",
   "name": "python3"
  },
  "language_info": {
   "codemirror_mode": {
    "name": "ipython",
    "version": 3
   },
   "file_extension": ".py",
   "mimetype": "text/x-python",
   "name": "python",
   "nbconvert_exporter": "python",
   "pygments_lexer": "ipython3",
   "version": "3.6.4"
  }
 },
 "nbformat": 4,
 "nbformat_minor": 2
}
